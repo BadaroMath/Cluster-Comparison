{
 "cells": [
  {
   "cell_type": "markdown",
   "metadata": {},
   "source": [
    "# Data Generation for Clustering Analysis\n",
    "\n",
    "This notebook demonstrates how to generate synthetic datasets using the MixSim methodology for clustering algorithm evaluation."
   ]
  },
  {
   "cell_type": "code",
   "execution_count": null,
   "metadata": {},
   "outputs": [],
   "source": [
    "# Import libraries\n",
    "import numpy as np\n",
    "import pandas as pd\n",
    "import matplotlib.pyplot as plt\n",
    "import seaborn as sns\n",
    "import sys\n",
    "from pathlib import Path\n",
    "\n",
    "# Add src to path\n",
    "sys.path.append('../src')\n",
    "\n",
    "from clustering_analysis import SyntheticDataGenerator, ClusteringVisualizer"
   ]
  },
  {
   "cell_type": "markdown",
   "metadata": {},
   "source": [
    "## Initialize Data Generator\n",
    "\n",
    "Create a synthetic data generator that will create datasets with controlled overlap between clusters."
   ]
  },
  {
   "cell_type": "code",
   "execution_count": null,
   "metadata": {},
   "outputs": [],
   "source": [
    "# Initialize data generator\n",
    "generator = SyntheticDataGenerator(output_dir=\"../data/synthetic\")\n",
    "\n",
    "print(\"Data generator initialized!\")"
   ]
  },
  {
   "cell_type": "markdown",
   "metadata": {},
   "source": [
    "## Generate Sample Datasets\n",
    "\n",
    "Let's generate datasets with different overlap levels (BarOmega) to see how cluster separation affects algorithm performance."
   ]
  },
  {
   "cell_type": "code",
   "execution_count": null,
   "metadata": {},
   "outputs": [],
   "source": [
    "# Parameters for dataset generation\n",
    "K = 3  # Number of clusters\n",
    "p = 2  # Number of dimensions (2D for visualization)\n",
    "n = 1000  # Number of samples\n",
    "\n",
    "# Different overlap levels\n",
    "overlap_levels = [0.0, 0.1, 0.3, 0.5]\n",
    "\n",
    "# Generate datasets\n",
    "datasets = {}\n",
    "for bar_omega in overlap_levels:\n",
    "    print(f\"Generating dataset with BarOmega = {bar_omega}...\")\n",
    "    X, y = generator.generate_dataset(bar_omega, K, p, n, random_state=42)\n",
    "    datasets[bar_omega] = (X, y)\n",
    "    print(f\"  Shape: {X.shape}, Unique labels: {len(np.unique(y))}\")"
   ]
  },
  {
   "cell_type": "markdown",
   "metadata": {},
   "source": [
    "## Visualize Generated Datasets\n",
    "\n",
    "Let's visualize how different overlap levels affect cluster separation."
   ]
  },
  {
   "cell_type": "code",
   "execution_count": null,
   "metadata": {},
   "outputs": [],
   "source": [
    "# Plot datasets with different overlap levels\n",
    "fig, axes = plt.subplots(2, 2, figsize=(12, 10))\n",
    "axes = axes.ravel()\n",
    "\n",
    "colors = ['red', 'blue', 'green', 'orange', 'purple']\n",
    "\n",
    "for i, (bar_omega, (X, y)) in enumerate(datasets.items()):\n",
    "    ax = axes[i]\n",
    "    \n",
    "    # Plot each cluster with different color\n",
    "    for cluster_id in np.unique(y):\n",
    "        mask = y == cluster_id\n",
    "        ax.scatter(X[mask, 0], X[mask, 1], \n",
    "                  c=colors[cluster_id], alpha=0.7, \n",
    "                  label=f'Cluster {cluster_id}', s=20)\n",
    "    \n",
    "    ax.set_title(f'BarOmega = {bar_omega}')\n",
    "    ax.set_xlabel('Feature 1')\n",
    "    ax.set_ylabel('Feature 2')\n",
    "    ax.legend()\n",
    "    ax.grid(True, alpha=0.3)\n",
    "\n",
    "plt.tight_layout()\n",
    "plt.show()"
   ]
  },
  {
   "cell_type": "markdown",
   "metadata": {},
   "source": [
    "## Dataset Statistics\n",
    "\n",
    "Let's examine the statistics of our generated datasets."
   ]
  },
  {
   "cell_type": "code",
   "execution_count": null,
   "metadata": {},
   "outputs": [],
   "source": [
    "# Calculate statistics for each dataset\n",
    "stats_data = []\n",
    "\n",
    "for bar_omega, (X, y) in datasets.items():\n",
    "    # Calculate basic statistics\n",
    "    stats = {\n",
    "        'BarOmega': bar_omega,\n",
    "        'n_samples': len(X),\n",
    "        'n_features': X.shape[1],\n",
    "        'n_clusters': len(np.unique(y)),\n",
    "        'feature1_mean': X[:, 0].mean(),\n",
    "        'feature1_std': X[:, 0].std(),\n",
    "        'feature2_mean': X[:, 1].mean(),\n",
    "        'feature2_std': X[:, 1].std(),\n",
    "    }\n",
    "    \n",
    "    # Cluster sizes\n",
    "    unique, counts = np.unique(y, return_counts=True)\n",
    "    for cluster_id, count in zip(unique, counts):\n",
    "        stats[f'cluster_{cluster_id}_size'] = count\n",
    "    \n",
    "    stats_data.append(stats)\n",
    "\n",
    "# Create DataFrame and display\n",
    "stats_df = pd.DataFrame(stats_data)\n",
    "print(\"Dataset Statistics:\")\n",
    "display(stats_df)"
   ]
  },
  {
   "cell_type": "markdown",
   "metadata": {},
   "source": [
    "## Generate Experimental Grid\n",
    "\n",
    "Now let's generate a complete experimental grid for different parameter combinations."
   ]
  },
  {
   "cell_type": "code",
   "execution_count": null,
   "metadata": {},
   "outputs": [],
   "source": [
    "# Define experimental grid\n",
    "experiment_grid = {\n",
    "    'bar_omega_variation': {\n",
    "        'bar_omega': [0.0, 0.05, 0.1, 0.2, 0.3],\n",
    "        'K': [3],\n",
    "        'P': [5],\n",
    "        'N': [1000]\n",
    "    }\n",
    "}\n",
    "\n",
    "# Generate all datasets in the grid\n",
    "print(\"Generating experimental grid...\")\n",
    "grid_results = generator.generate_experiment_grid(experiment_grid)\n",
    "\n",
    "print(f\"Generated {len(grid_results)} datasets\")\n",
    "print(\"\\nFirst 5 datasets:\")\n",
    "for i, result in enumerate(grid_results[:5]):\n",
    "    print(f\"{i+1}. BarOmega={result['bar_omega']}, K={result['K']}, P={result['P']}, N={result['N']}\")"
   ]
  },
  {
   "cell_type": "markdown",
   "metadata": {},
   "source": [
    "## List All Available Datasets\n",
    "\n",
    "Let's see what datasets are available in our data directory."
   ]
  },
  {
   "cell_type": "code",
   "execution_count": null,
   "metadata": {},
   "outputs": [],
   "source": [
    "# List all available datasets\n",
    "available_datasets = generator.list_datasets()\n",
    "\n",
    "print(f\"Found {len(available_datasets)} datasets:\")\n",
    "\n",
    "# Convert to DataFrame for better display\n",
    "datasets_df = pd.DataFrame(available_datasets)\n",
    "if not datasets_df.empty:\n",
    "    datasets_df = datasets_df.drop('filepath', axis=1)  # Remove filepath for display\n",
    "    display(datasets_df.head(10))\n",
    "else:\n",
    "    print(\"No datasets found.\")"
   ]
  },
  {
   "cell_type": "markdown",
   "metadata": {},
   "source": [
    "## Conclusion\n",
    "\n",
    "In this notebook, we:\n",
    "\n",
    "1. **Initialized** a synthetic data generator\n",
    "2. **Generated** datasets with different overlap levels (BarOmega)\n",
    "3. **Visualized** how overlap affects cluster separation\n",
    "4. **Calculated** basic statistics for the datasets\n",
    "5. **Created** an experimental grid for systematic analysis\n",
    "\n",
    "The generated datasets will be used in the next notebook to test different clustering algorithms and evaluate their performance under various conditions.\n",
    "\n",
    "### Key Observations:\n",
    "- **BarOmega = 0.0**: Well-separated clusters, easy to distinguish\n",
    "- **BarOmega = 0.1**: Slight overlap, still manageable\n",
    "- **BarOmega = 0.3**: Moderate overlap, more challenging\n",
    "- **BarOmega = 0.5**: Significant overlap, difficult clustering scenario\n",
    "\n",
    "These datasets provide a controlled environment to test how clustering algorithms perform under different conditions of cluster separability."
   ]
  }
 ],
 "metadata": {
  "kernelspec": {
   "display_name": "Python 3",
   "language": "python",
   "name": "python3"
  },
  "language_info": {
   "codemirror_mode": {
    "name": "ipython",
    "version": 3
   },
   "file_extension": ".py",
   "mimetype": "text/x-python",
   "name": "python",
   "nbconvert_exporter": "python",
   "pygments_lexer": "ipython3",
   "version": "3.8.0"
  }
 },
 "nbformat": 4,
 "nbformat_minor": 4
}